{
 "cells": [
  {
   "cell_type": "code",
   "execution_count": 5,
   "id": "b6f567ec-d7d2-4b25-8e47-c4551a699be8",
   "metadata": {},
   "outputs": [],
   "source": [
    "import numpy as np\n",
    "import pandas as pd\n",
    "import matplotlib.pyplot as plt\n",
    "import seaborn as sns\n",
    "import plotly.express as px\n",
    "import plotly.graph_objects as go\n",
    "from sklearn.preprocessing import (\n",
    "    StandardScaler,\n",
    "    MinMaxScaler,\n",
    "    OneHotEncoder,\n",
    "    PolynomialFeatures\n",
    ")\n",
    "from sklearn.metrics import (\n",
    "    mean_squared_error,\n",
    "    mean_absolute_error,\n",
    "    r2_score,\n",
    "    accuracy_score,\n",
    "    precision_score,\n",
    "    recall_score,\n",
    "    f1_score,\n",
    "    confusion_matrix,\n",
    "    classification_report,\n",
    "    make_scorer,\n",
    "    roc_curve,\n",
    "    auc\n",
    ")\n",
    "from sklearn.model_selection import (\n",
    "    train_test_split,\n",
    "    cross_validate,\n",
    "    cross_val_score,\n",
    "    GridSearchCV,\n",
    "    KFold,\n",
    "    learning_curve\n",
    ")\n",
    "from sklearn.linear_model import (\n",
    "    LinearRegression,\n",
    "    LogisticRegression,\n",
    "    Ridge,\n",
    "    Lasso\n",
    ")\n",
    "from sklearn.ensemble import (\n",
    "    RandomForestRegressor,\n",
    "    RandomForestClassifier\n",
    ")\n",
    "from sklearn.tree import DecisionTreeClassifier\n",
    "from sklearn.neighbors import KNeighborsClassifier\n",
    "from sklearn.multiclass import OneVsRestClassifier\n",
    "from sklearn.pipeline import Pipeline, make_pipeline\n",
    "from sklearn.compose import ColumnTransformer\n",
    "from sklearn.impute import KNNImputer\n",
    "from sklearn.decomposition import PCA\n",
    "from imblearn.over_sampling import SMOTE\n",
    "from imblearn.pipeline import Pipeline as ImbPipeline\n",
    "from scipy import stats\n",
    "import warnings\n",
    "from sklearn.preprocessing import label_binarize\n",
    "from sklearn.multiclass import OneVsRestClassifier\n",
    "from sklearn.metrics import roc_curve, auc"
   ]
  },
  {
   "cell_type": "code",
   "execution_count": 95,
   "id": "b4430e33-15d6-4ad5-ace7-969d33414ec6",
   "metadata": {},
   "outputs": [],
   "source": [
    "db = pd.read_excel('../data/01_raw/Base_clientes_Monopoly.xlsx')"
   ]
  },
  {
   "cell_type": "markdown",
   "id": "8edde3e9-1de8-475f-a3cf-6eaadf790d59",
   "metadata": {},
   "source": [
    "To begin with the exploratory analysis, it is essential to identify and understand the information contained in each of the datasets we will be using. Below is a summary of the three main datasets involved in our study."
   ]
  },
  {
   "cell_type": "code",
   "execution_count": 98,
   "id": "04ce7360-f556-4d22-99dc-bda47405cac3",
   "metadata": {},
   "outputs": [
    {
     "data": {
      "text/html": [
       "<pre style=\"white-space:pre;overflow-x:auto;line-height:normal;font-family:Menlo,'DejaVu Sans Mono',consolas,'Courier New',monospace\"></pre>\n"
      ],
      "text/plain": []
     },
     "metadata": {},
     "output_type": "display_data"
    },
    {
     "data": {
      "text/html": [
       "<div>\n",
       "<style scoped>\n",
       "    .dataframe tbody tr th:only-of-type {\n",
       "        vertical-align: middle;\n",
       "    }\n",
       "\n",
       "    .dataframe tbody tr th {\n",
       "        vertical-align: top;\n",
       "    }\n",
       "\n",
       "    .dataframe thead th {\n",
       "        text-align: right;\n",
       "    }\n",
       "</style>\n",
       "<table border=\"1\" class=\"dataframe\">\n",
       "  <thead>\n",
       "    <tr style=\"text-align: right;\">\n",
       "      <th></th>\n",
       "      <th>Id</th>\n",
       "      <th>Subsegmento</th>\n",
       "      <th>Sexo</th>\n",
       "      <th>Region</th>\n",
       "      <th>Edad</th>\n",
       "      <th>Renta</th>\n",
       "      <th>Antiguedad</th>\n",
       "      <th>Internauta</th>\n",
       "      <th>Adicional</th>\n",
       "      <th>Dualidad</th>\n",
       "      <th>...</th>\n",
       "      <th>PagoNac_T01</th>\n",
       "      <th>PagoInt_T01</th>\n",
       "      <th>EeccNac_T01</th>\n",
       "      <th>EeccInt_T01</th>\n",
       "      <th>UsoL1_T01</th>\n",
       "      <th>UsoL2_T01</th>\n",
       "      <th>UsoLI_T01</th>\n",
       "      <th>IndRev_T01</th>\n",
       "      <th>target</th>\n",
       "      <th>NaN</th>\n",
       "    </tr>\n",
       "  </thead>\n",
       "  <tbody>\n",
       "    <tr>\n",
       "      <th>0</th>\n",
       "      <td>1</td>\n",
       "      <td>160</td>\n",
       "      <td>M</td>\n",
       "      <td>13</td>\n",
       "      <td>43</td>\n",
       "      <td>NaN</td>\n",
       "      <td>130</td>\n",
       "      <td>1</td>\n",
       "      <td>1</td>\n",
       "      <td>0</td>\n",
       "      <td>...</td>\n",
       "      <td>33000</td>\n",
       "      <td>0</td>\n",
       "      <td>1099866</td>\n",
       "      <td>0</td>\n",
       "      <td>1099866</td>\n",
       "      <td>15080</td>\n",
       "      <td>0</td>\n",
       "      <td>R</td>\n",
       "      <td>0</td>\n",
       "      <td>NaN</td>\n",
       "    </tr>\n",
       "    <tr>\n",
       "      <th>1</th>\n",
       "      <td>2</td>\n",
       "      <td>160</td>\n",
       "      <td>H</td>\n",
       "      <td>13</td>\n",
       "      <td>46</td>\n",
       "      <td>143640</td>\n",
       "      <td>69</td>\n",
       "      <td>1</td>\n",
       "      <td>0</td>\n",
       "      <td>0</td>\n",
       "      <td>...</td>\n",
       "      <td>300000</td>\n",
       "      <td>0</td>\n",
       "      <td>214592</td>\n",
       "      <td>0</td>\n",
       "      <td>214592</td>\n",
       "      <td>83596</td>\n",
       "      <td>0</td>\n",
       "      <td>R</td>\n",
       "      <td>0</td>\n",
       "      <td>NaN</td>\n",
       "    </tr>\n",
       "    <tr>\n",
       "      <th>2</th>\n",
       "      <td>3</td>\n",
       "      <td>170</td>\n",
       "      <td>H</td>\n",
       "      <td>13</td>\n",
       "      <td>45</td>\n",
       "      <td>929106</td>\n",
       "      <td>24</td>\n",
       "      <td>1</td>\n",
       "      <td>1</td>\n",
       "      <td>0</td>\n",
       "      <td>...</td>\n",
       "      <td>216676</td>\n",
       "      <td>0</td>\n",
       "      <td>0</td>\n",
       "      <td>0</td>\n",
       "      <td>7400</td>\n",
       "      <td>0</td>\n",
       "      <td>0</td>\n",
       "      <td>T</td>\n",
       "      <td>0</td>\n",
       "      <td>NaN</td>\n",
       "    </tr>\n",
       "    <tr>\n",
       "      <th>3</th>\n",
       "      <td>4</td>\n",
       "      <td>151</td>\n",
       "      <td>H</td>\n",
       "      <td>13</td>\n",
       "      <td>46</td>\n",
       "      <td>172447</td>\n",
       "      <td>134</td>\n",
       "      <td>0</td>\n",
       "      <td>1</td>\n",
       "      <td>0</td>\n",
       "      <td>...</td>\n",
       "      <td>60000</td>\n",
       "      <td>0</td>\n",
       "      <td>272762</td>\n",
       "      <td>0</td>\n",
       "      <td>272762</td>\n",
       "      <td>10591</td>\n",
       "      <td>0</td>\n",
       "      <td>R</td>\n",
       "      <td>0</td>\n",
       "      <td>NaN</td>\n",
       "    </tr>\n",
       "    <tr>\n",
       "      <th>4</th>\n",
       "      <td>5</td>\n",
       "      <td>170</td>\n",
       "      <td>H</td>\n",
       "      <td>13</td>\n",
       "      <td>46</td>\n",
       "      <td>805250</td>\n",
       "      <td>116</td>\n",
       "      <td>0</td>\n",
       "      <td>1</td>\n",
       "      <td>1</td>\n",
       "      <td>...</td>\n",
       "      <td>272925</td>\n",
       "      <td>0</td>\n",
       "      <td>249562</td>\n",
       "      <td>0</td>\n",
       "      <td>75339</td>\n",
       "      <td>377782</td>\n",
       "      <td>0</td>\n",
       "      <td>R</td>\n",
       "      <td>0</td>\n",
       "      <td>NaN</td>\n",
       "    </tr>\n",
       "    <tr>\n",
       "      <th>5</th>\n",
       "      <td>6</td>\n",
       "      <td>170</td>\n",
       "      <td>H</td>\n",
       "      <td>13</td>\n",
       "      <td>47</td>\n",
       "      <td>707664</td>\n",
       "      <td>67</td>\n",
       "      <td>1</td>\n",
       "      <td>1</td>\n",
       "      <td>0</td>\n",
       "      <td>...</td>\n",
       "      <td>35800</td>\n",
       "      <td>0</td>\n",
       "      <td>35800</td>\n",
       "      <td>0</td>\n",
       "      <td>0</td>\n",
       "      <td>51197</td>\n",
       "      <td>0</td>\n",
       "      <td>R</td>\n",
       "      <td>0</td>\n",
       "      <td>NaN</td>\n",
       "    </tr>\n",
       "    <tr>\n",
       "      <th>6</th>\n",
       "      <td>7</td>\n",
       "      <td>811</td>\n",
       "      <td>H</td>\n",
       "      <td>13</td>\n",
       "      <td>48</td>\n",
       "      <td>1022833</td>\n",
       "      <td>21</td>\n",
       "      <td>1</td>\n",
       "      <td>0</td>\n",
       "      <td>1</td>\n",
       "      <td>...</td>\n",
       "      <td>9391</td>\n",
       "      <td>0</td>\n",
       "      <td>8818</td>\n",
       "      <td>0</td>\n",
       "      <td>8818</td>\n",
       "      <td>0</td>\n",
       "      <td>0</td>\n",
       "      <td>T</td>\n",
       "      <td>0</td>\n",
       "      <td>NaN</td>\n",
       "    </tr>\n",
       "    <tr>\n",
       "      <th>7</th>\n",
       "      <td>8</td>\n",
       "      <td>170</td>\n",
       "      <td>H</td>\n",
       "      <td>13</td>\n",
       "      <td>46</td>\n",
       "      <td>NaN</td>\n",
       "      <td>69</td>\n",
       "      <td>0</td>\n",
       "      <td>1</td>\n",
       "      <td>1</td>\n",
       "      <td>...</td>\n",
       "      <td>6000</td>\n",
       "      <td>0</td>\n",
       "      <td>283520</td>\n",
       "      <td>0</td>\n",
       "      <td>283520</td>\n",
       "      <td>0</td>\n",
       "      <td>0</td>\n",
       "      <td>R</td>\n",
       "      <td>0</td>\n",
       "      <td>NaN</td>\n",
       "    </tr>\n",
       "  </tbody>\n",
       "</table>\n",
       "<p>8 rows × 575 columns</p>\n",
       "</div>"
      ],
      "text/plain": [
       "\n",
       "\u001b[1;36m0\u001b[0m Id Subsegmento Sexo Region Edad    Renta Antiguedad Internauta Adicional  \\\n",
       "\u001b[1;36m0\u001b[0m  \u001b[1;36m1\u001b[0m         \u001b[1;36m160\u001b[0m    M     \u001b[1;36m13\u001b[0m   \u001b[1;36m43\u001b[0m      NaN        \u001b[1;36m130\u001b[0m          \u001b[1;36m1\u001b[0m         \u001b[1;36m1\u001b[0m   \n",
       "\u001b[1;36m1\u001b[0m  \u001b[1;36m2\u001b[0m         \u001b[1;36m160\u001b[0m    H     \u001b[1;36m13\u001b[0m   \u001b[1;36m46\u001b[0m   \u001b[1;36m143640\u001b[0m         \u001b[1;36m69\u001b[0m          \u001b[1;36m1\u001b[0m         \u001b[1;36m0\u001b[0m   \n",
       "\u001b[1;36m2\u001b[0m  \u001b[1;36m3\u001b[0m         \u001b[1;36m170\u001b[0m    H     \u001b[1;36m13\u001b[0m   \u001b[1;36m45\u001b[0m   \u001b[1;36m929106\u001b[0m         \u001b[1;36m24\u001b[0m          \u001b[1;36m1\u001b[0m         \u001b[1;36m1\u001b[0m   \n",
       "\u001b[1;36m3\u001b[0m  \u001b[1;36m4\u001b[0m         \u001b[1;36m151\u001b[0m    H     \u001b[1;36m13\u001b[0m   \u001b[1;36m46\u001b[0m   \u001b[1;36m172447\u001b[0m        \u001b[1;36m134\u001b[0m          \u001b[1;36m0\u001b[0m         \u001b[1;36m1\u001b[0m   \n",
       "\u001b[1;36m4\u001b[0m  \u001b[1;36m5\u001b[0m         \u001b[1;36m170\u001b[0m    H     \u001b[1;36m13\u001b[0m   \u001b[1;36m46\u001b[0m   \u001b[1;36m805250\u001b[0m        \u001b[1;36m116\u001b[0m          \u001b[1;36m0\u001b[0m         \u001b[1;36m1\u001b[0m   \n",
       "\u001b[1;36m5\u001b[0m  \u001b[1;36m6\u001b[0m         \u001b[1;36m170\u001b[0m    H     \u001b[1;36m13\u001b[0m   \u001b[1;36m47\u001b[0m   \u001b[1;36m707664\u001b[0m         \u001b[1;36m67\u001b[0m          \u001b[1;36m1\u001b[0m         \u001b[1;36m1\u001b[0m   \n",
       "\u001b[1;36m6\u001b[0m  \u001b[1;36m7\u001b[0m         \u001b[1;36m811\u001b[0m    H     \u001b[1;36m13\u001b[0m   \u001b[1;36m48\u001b[0m  \u001b[1;36m1022833\u001b[0m         \u001b[1;36m21\u001b[0m          \u001b[1;36m1\u001b[0m         \u001b[1;36m0\u001b[0m   \n",
       "\u001b[1;36m7\u001b[0m  \u001b[1;36m8\u001b[0m         \u001b[1;36m170\u001b[0m    H     \u001b[1;36m13\u001b[0m   \u001b[1;36m46\u001b[0m      NaN         \u001b[1;36m69\u001b[0m          \u001b[1;36m0\u001b[0m         \u001b[1;36m1\u001b[0m   \n",
       "\n",
       "\u001b[1;36m0\u001b[0m Dualidad  \u001b[33m...\u001b[0m PagoNac_T01 PagoInt_T01 EeccNac_T01 EeccInt_T01 UsoL1_T01  \\\n",
       "\u001b[1;36m0\u001b[0m        \u001b[1;36m0\u001b[0m  \u001b[33m...\u001b[0m       \u001b[1;36m33000\u001b[0m           \u001b[1;36m0\u001b[0m     \u001b[1;36m1099866\u001b[0m           \u001b[1;36m0\u001b[0m   \u001b[1;36m1099866\u001b[0m   \n",
       "\u001b[1;36m1\u001b[0m        \u001b[1;36m0\u001b[0m  \u001b[33m...\u001b[0m      \u001b[1;36m300000\u001b[0m           \u001b[1;36m0\u001b[0m      \u001b[1;36m214592\u001b[0m           \u001b[1;36m0\u001b[0m    \u001b[1;36m214592\u001b[0m   \n",
       "\u001b[1;36m2\u001b[0m        \u001b[1;36m0\u001b[0m  \u001b[33m...\u001b[0m      \u001b[1;36m216676\u001b[0m           \u001b[1;36m0\u001b[0m           \u001b[1;36m0\u001b[0m           \u001b[1;36m0\u001b[0m      \u001b[1;36m7400\u001b[0m   \n",
       "\u001b[1;36m3\u001b[0m        \u001b[1;36m0\u001b[0m  \u001b[33m...\u001b[0m       \u001b[1;36m60000\u001b[0m           \u001b[1;36m0\u001b[0m      \u001b[1;36m272762\u001b[0m           \u001b[1;36m0\u001b[0m    \u001b[1;36m272762\u001b[0m   \n",
       "\u001b[1;36m4\u001b[0m        \u001b[1;36m1\u001b[0m  \u001b[33m...\u001b[0m      \u001b[1;36m272925\u001b[0m           \u001b[1;36m0\u001b[0m      \u001b[1;36m249562\u001b[0m           \u001b[1;36m0\u001b[0m     \u001b[1;36m75339\u001b[0m   \n",
       "\u001b[1;36m5\u001b[0m        \u001b[1;36m0\u001b[0m  \u001b[33m...\u001b[0m       \u001b[1;36m35800\u001b[0m           \u001b[1;36m0\u001b[0m       \u001b[1;36m35800\u001b[0m           \u001b[1;36m0\u001b[0m         \u001b[1;36m0\u001b[0m   \n",
       "\u001b[1;36m6\u001b[0m        \u001b[1;36m1\u001b[0m  \u001b[33m...\u001b[0m        \u001b[1;36m9391\u001b[0m           \u001b[1;36m0\u001b[0m        \u001b[1;36m8818\u001b[0m           \u001b[1;36m0\u001b[0m      \u001b[1;36m8818\u001b[0m   \n",
       "\u001b[1;36m7\u001b[0m        \u001b[1;36m1\u001b[0m  \u001b[33m...\u001b[0m        \u001b[1;36m6000\u001b[0m           \u001b[1;36m0\u001b[0m      \u001b[1;36m283520\u001b[0m           \u001b[1;36m0\u001b[0m    \u001b[1;36m283520\u001b[0m   \n",
       "\n",
       "\u001b[1;36m0\u001b[0m UsoL2_T01 UsoLI_T01 IndRev_T01 target NaN  \n",
       "\u001b[1;36m0\u001b[0m     \u001b[1;36m15080\u001b[0m         \u001b[1;36m0\u001b[0m          R      \u001b[1;36m0\u001b[0m NaN  \n",
       "\u001b[1;36m1\u001b[0m     \u001b[1;36m83596\u001b[0m         \u001b[1;36m0\u001b[0m          R      \u001b[1;36m0\u001b[0m NaN  \n",
       "\u001b[1;36m2\u001b[0m         \u001b[1;36m0\u001b[0m         \u001b[1;36m0\u001b[0m          T      \u001b[1;36m0\u001b[0m NaN  \n",
       "\u001b[1;36m3\u001b[0m     \u001b[1;36m10591\u001b[0m         \u001b[1;36m0\u001b[0m          R      \u001b[1;36m0\u001b[0m NaN  \n",
       "\u001b[1;36m4\u001b[0m    \u001b[1;36m377782\u001b[0m         \u001b[1;36m0\u001b[0m          R      \u001b[1;36m0\u001b[0m NaN  \n",
       "\u001b[1;36m5\u001b[0m     \u001b[1;36m51197\u001b[0m         \u001b[1;36m0\u001b[0m          R      \u001b[1;36m0\u001b[0m NaN  \n",
       "\u001b[1;36m6\u001b[0m         \u001b[1;36m0\u001b[0m         \u001b[1;36m0\u001b[0m          T      \u001b[1;36m0\u001b[0m NaN  \n",
       "\u001b[1;36m7\u001b[0m         \u001b[1;36m0\u001b[0m         \u001b[1;36m0\u001b[0m          R      \u001b[1;36m0\u001b[0m NaN  \n",
       "\n",
       "\u001b[1m[\u001b[0m\u001b[1;36m8\u001b[0m rows x \u001b[1;36m575\u001b[0m columns\u001b[1m]\u001b[0m"
      ]
     },
     "execution_count": 98,
     "metadata": {},
     "output_type": "execute_result"
    }
   ],
   "source": [
    "db.head(8)"
   ]
  },
  {
   "cell_type": "code",
   "execution_count": 97,
   "id": "398bb903-21f4-4c27-aabe-77748f9d30d0",
   "metadata": {},
   "outputs": [
    {
     "name": "stdout",
     "output_type": "stream",
     "text": [
      "Index([         'Id', 'Subsegmento',        'Sexo',      'Region',\n",
      "              'Edad',       'Renta',  'Antiguedad',  'Internauta',\n",
      "         'Adicional',    'Dualidad',\n",
      "       ...\n",
      "       'PagoNac_T01', 'PagoInt_T01', 'EeccNac_T01', 'EeccInt_T01',\n",
      "         'UsoL1_T01',   'UsoL2_T01',   'UsoLI_T01',  'IndRev_T01',\n",
      "            'target',           nan],\n",
      "      dtype='object', name=0, length=575)\n",
      "0 Id Subsegmento Sexo Region Edad   Renta Antiguedad Internauta Adicional  \\\n",
      "0  1         160    M     13   43     NaN        130          1         1   \n",
      "1  2         160    H     13   46  143640         69          1         0   \n",
      "2  3         170    H     13   45  929106         24          1         1   \n",
      "3  4         151    H     13   46  172447        134          0         1   \n",
      "4  5         170    H     13   46  805250        116          0         1   \n",
      "\n",
      "0 Dualidad  ... PagoNac_T01 PagoInt_T01 EeccNac_T01 EeccInt_T01 UsoL1_T01  \\\n",
      "0        0  ...       33000           0     1099866           0   1099866   \n",
      "1        0  ...      300000           0      214592           0    214592   \n",
      "2        0  ...      216676           0           0           0      7400   \n",
      "3        0  ...       60000           0      272762           0    272762   \n",
      "4        1  ...      272925           0      249562           0     75339   \n",
      "\n",
      "0 UsoL2_T01 UsoLI_T01 IndRev_T01 target NaN  \n",
      "0     15080         0          R      0 NaN  \n",
      "1     83596         0          R      0 NaN  \n",
      "2         0         0          T      0 NaN  \n",
      "3     10591         0          R      0 NaN  \n",
      "4    377782         0          R      0 NaN  \n",
      "\n",
      "[5 rows x 575 columns]\n"
     ]
    }
   ],
   "source": [
    "db.columns = db.iloc[0]  \n",
    "\n",
    "db = db[1:]\n",
    "\n",
    "\n",
    "db.reset_index(drop=True, inplace=True)\n",
    "\n",
    "\n",
    "print(db.columns)\n",
    "print(db.head())   "
   ]
  },
  {
   "cell_type": "markdown",
   "id": "dd0b8d59-ba39-42f6-a12a-c051fc9161a1",
   "metadata": {},
   "source": [
    "In the data preparation process, the first row of the DataFrame `db` is assigned as the column names since the original Excel file contained numbers instead of descriptive names. This is crucial for facilitating the identification and handling of the data in subsequent analyses. Next, this first row is removed from the DataFrame, ensuring that only the relevant data remains for analysis and avoiding confusion from duplicate data. Following this, the index of the DataFrame is reset to keep it clean and organized, which is a good practice in data preparation. Finally, the new column names and the first few rows of the DataFrame are printed to verify that the operations have been executed correctly. This verification is essential in the CRISP-DM methodology to ensure that the data is properly structured before proceeding with exploratory analysis and modeling."
   ]
  },
  {
   "cell_type": "code",
   "execution_count": 65,
   "id": "1a36a0d1-de02-4717-8e61-e5c96c2a59a9",
   "metadata": {},
   "outputs": [
    {
     "data": {
      "text/html": [
       "<pre style=\"white-space:pre;overflow-x:auto;line-height:normal;font-family:Menlo,'DejaVu Sans Mono',consolas,'Courier New',monospace\"></pre>\n"
      ],
      "text/plain": []
     },
     "metadata": {},
     "output_type": "display_data"
    },
    {
     "data": {
      "text/html": [
       "<div>\n",
       "<style scoped>\n",
       "    .dataframe tbody tr th:only-of-type {\n",
       "        vertical-align: middle;\n",
       "    }\n",
       "\n",
       "    .dataframe tbody tr th {\n",
       "        vertical-align: top;\n",
       "    }\n",
       "\n",
       "    .dataframe thead th {\n",
       "        text-align: right;\n",
       "    }\n",
       "</style>\n",
       "<table border=\"1\" class=\"dataframe\">\n",
       "  <thead>\n",
       "    <tr style=\"text-align: right;\">\n",
       "      <th></th>\n",
       "      <th>NaN</th>\n",
       "    </tr>\n",
       "  </thead>\n",
       "  <tbody>\n",
       "    <tr>\n",
       "      <th>count</th>\n",
       "      <td>0.0</td>\n",
       "    </tr>\n",
       "    <tr>\n",
       "      <th>mean</th>\n",
       "      <td>NaN</td>\n",
       "    </tr>\n",
       "    <tr>\n",
       "      <th>std</th>\n",
       "      <td>NaN</td>\n",
       "    </tr>\n",
       "    <tr>\n",
       "      <th>min</th>\n",
       "      <td>NaN</td>\n",
       "    </tr>\n",
       "    <tr>\n",
       "      <th>25%</th>\n",
       "      <td>NaN</td>\n",
       "    </tr>\n",
       "    <tr>\n",
       "      <th>50%</th>\n",
       "      <td>NaN</td>\n",
       "    </tr>\n",
       "    <tr>\n",
       "      <th>75%</th>\n",
       "      <td>NaN</td>\n",
       "    </tr>\n",
       "    <tr>\n",
       "      <th>max</th>\n",
       "      <td>NaN</td>\n",
       "    </tr>\n",
       "  </tbody>\n",
       "</table>\n",
       "</div>"
      ],
      "text/plain": [
       "\n",
       "\u001b[1;36m0\u001b[0m      NaN\n",
       "count  \u001b[1;36m0.0\u001b[0m\n",
       "mean   NaN\n",
       "std    NaN\n",
       "min    NaN\n",
       "\u001b[1;36m25\u001b[0m%    NaN\n",
       "\u001b[1;36m50\u001b[0m%    NaN\n",
       "\u001b[1;36m75\u001b[0m%    NaN\n",
       "max    NaN"
      ]
     },
     "execution_count": 65,
     "metadata": {},
     "output_type": "execute_result"
    }
   ],
   "source": [
    "db.describe()"
   ]
  },
  {
   "cell_type": "code",
   "execution_count": 57,
   "id": "d122f9fa-a627-40b1-8a03-1fe3afb533f1",
   "metadata": {},
   "outputs": [
    {
     "data": {
      "text/html": [
       "<pre style=\"white-space:pre;overflow-x:auto;line-height:normal;font-family:Menlo,'DejaVu Sans Mono',consolas,'Courier New',monospace\"></pre>\n"
      ],
      "text/plain": []
     },
     "metadata": {},
     "output_type": "display_data"
    },
    {
     "data": {
      "text/plain": [
       "\n",
       "\u001b[1;36m0\u001b[0m\n",
       "Id                 \u001b[1;36m0\u001b[0m\n",
       "Subsegmento        \u001b[1;36m0\u001b[0m\n",
       "Sexo               \u001b[1;36m1\u001b[0m\n",
       "Region            \u001b[1;36m53\u001b[0m\n",
       "Edad               \u001b[1;36m0\u001b[0m\n",
       "               \u001b[33m...\u001b[0m  \n",
       "UsoL2_T01          \u001b[1;36m0\u001b[0m\n",
       "UsoLI_T01          \u001b[1;36m0\u001b[0m\n",
       "IndRev_T01         \u001b[1;36m0\u001b[0m\n",
       "target             \u001b[1;36m0\u001b[0m\n",
       "NaN            \u001b[1;36m51124\u001b[0m\n",
       "Length: \u001b[1;36m575\u001b[0m, dtype: int64"
      ]
     },
     "execution_count": 57,
     "metadata": {},
     "output_type": "execute_result"
    }
   ],
   "source": [
    "db.isna().sum()"
   ]
  },
  {
   "cell_type": "code",
   "execution_count": 58,
   "id": "8859304e-774f-4479-ad27-4c445249397e",
   "metadata": {},
   "outputs": [
    {
     "data": {
      "text/html": [
       "<pre style=\"white-space:pre;overflow-x:auto;line-height:normal;font-family:Menlo,'DejaVu Sans Mono',consolas,'Courier New',monospace\"></pre>\n"
      ],
      "text/plain": []
     },
     "metadata": {},
     "output_type": "display_data"
    },
    {
     "data": {
      "text/html": [
       "<div>\n",
       "<style scoped>\n",
       "    .dataframe tbody tr th:only-of-type {\n",
       "        vertical-align: middle;\n",
       "    }\n",
       "\n",
       "    .dataframe tbody tr th {\n",
       "        vertical-align: top;\n",
       "    }\n",
       "\n",
       "    .dataframe thead th {\n",
       "        text-align: right;\n",
       "    }\n",
       "</style>\n",
       "<table border=\"1\" class=\"dataframe\">\n",
       "  <thead>\n",
       "    <tr style=\"text-align: right;\">\n",
       "      <th></th>\n",
       "      <th>count</th>\n",
       "      <th>mean</th>\n",
       "      <th>std</th>\n",
       "      <th>min</th>\n",
       "      <th>25%</th>\n",
       "      <th>50%</th>\n",
       "      <th>75%</th>\n",
       "      <th>max</th>\n",
       "    </tr>\n",
       "    <tr>\n",
       "      <th>0</th>\n",
       "      <th></th>\n",
       "      <th></th>\n",
       "      <th></th>\n",
       "      <th></th>\n",
       "      <th></th>\n",
       "      <th></th>\n",
       "      <th></th>\n",
       "      <th></th>\n",
       "    </tr>\n",
       "  </thead>\n",
       "  <tbody>\n",
       "    <tr>\n",
       "      <th>NaN</th>\n",
       "      <td>0.0</td>\n",
       "      <td>NaN</td>\n",
       "      <td>NaN</td>\n",
       "      <td>NaN</td>\n",
       "      <td>NaN</td>\n",
       "      <td>NaN</td>\n",
       "      <td>NaN</td>\n",
       "      <td>NaN</td>\n",
       "    </tr>\n",
       "  </tbody>\n",
       "</table>\n",
       "</div>"
      ],
      "text/plain": [
       "\n",
       "     count  mean  std  min  \u001b[1;36m25\u001b[0m%  \u001b[1;36m50\u001b[0m%  \u001b[1;36m75\u001b[0m%  max\n",
       "\u001b[1;36m0\u001b[0m                                             \n",
       "NaN    \u001b[1;36m0.0\u001b[0m   NaN  NaN  NaN  NaN  NaN  NaN  NaN"
      ]
     },
     "execution_count": 58,
     "metadata": {},
     "output_type": "execute_result"
    }
   ],
   "source": [
    "db.describe().T"
   ]
  },
  {
   "cell_type": "code",
   "execution_count": 59,
   "id": "51259bfc-7b26-4bae-b890-06fcd04d99fd",
   "metadata": {},
   "outputs": [
    {
     "name": "stdout",
     "output_type": "stream",
     "text": [
      "0\n",
      "Id              object\n",
      "Subsegmento     object\n",
      "Sexo            object\n",
      "Region          object\n",
      "Edad            object\n",
      "                ...   \n",
      "UsoL2_T01       object\n",
      "UsoLI_T01       object\n",
      "IndRev_T01      object\n",
      "target          object\n",
      "NaN            float64\n",
      "Length: 575, dtype: object\n"
     ]
    }
   ],
   "source": [
    "print(db.dtypes)"
   ]
  },
  {
   "cell_type": "code",
   "execution_count": 60,
   "id": "a42beae5-9e4f-451d-a0ee-2820f8a02415",
   "metadata": {},
   "outputs": [
    {
     "name": "stdout",
     "output_type": "stream",
     "text": [
      "575\n"
     ]
    }
   ],
   "source": [
    "   print(len(db.columns))  # Esto te mostrará el número de columnas"
   ]
  },
  {
   "cell_type": "code",
   "execution_count": 61,
   "id": "163ac749-434f-4fb3-9ac5-fbcbcba1e863",
   "metadata": {},
   "outputs": [
    {
     "name": "stdout",
     "output_type": "stream",
     "text": [
      "0\n",
      "Id             51124\n",
      "Subsegmento    51124\n",
      "Sexo           51123\n",
      "Region         51071\n",
      "Edad           51124\n",
      "               ...  \n",
      "UsoL2_T01      51124\n",
      "UsoLI_T01      51124\n",
      "IndRev_T01     51124\n",
      "target         51124\n",
      "NaN                0\n",
      "Length: 575, dtype: int64\n"
     ]
    }
   ],
   "source": [
    "conteo_filas = db.count()\n",
    "\n",
    "# Mostrar el conteo de filas por columna\n",
    "print(conteo_filas)\n"
   ]
  },
  {
   "cell_type": "code",
   "execution_count": 62,
   "id": "82bf3a5f-cd50-4c2f-a395-d94c3603765a",
   "metadata": {},
   "outputs": [
    {
     "name": "stdout",
     "output_type": "stream",
     "text": [
      "Número total de filas: 51124\n"
     ]
    }
   ],
   "source": [
    "# Contar el número total de filas en el DataFrame\n",
    "numero_total_filas = db.shape[0]\n",
    "print(f'Número total de filas: {numero_total_filas}')"
   ]
  },
  {
   "cell_type": "code",
   "execution_count": 63,
   "id": "9332df57-a493-4135-8e7e-59d69ba5414b",
   "metadata": {},
   "outputs": [
    {
     "name": "stdout",
     "output_type": "stream",
     "text": [
      "Analysis of nan:\n",
      " - Mean (Average): 0.00 \n",
      " - Median: 0.00 \n"
     ]
    }
   ],
   "source": [
    "description = db.describe()\n",
    "for column in description.columns:\n",
    "    print(f\"Analysis of {column}:\")\n",
    "\n",
    "    mean_value = description[column].mean(skipna=True)\n",
    "    print(f\" - Mean (Average): {mean_value:.2f} \")\n",
    "\n",
    "    median_value = description[column].median(skipna=True)\n",
    "    print(f\" - Median: {median_value:.2f} \")"
   ]
  },
  {
   "cell_type": "code",
   "execution_count": null,
   "id": "5fdbcc72-d5b4-4e9c-9e07-47bc398a216c",
   "metadata": {},
   "outputs": [],
   "source": []
  }
 ],
 "metadata": {
  "kernelspec": {
   "display_name": "Kedro (monopoly)",
   "language": "python",
   "name": "kedro_monopoly"
  },
  "language_info": {
   "codemirror_mode": {
    "name": "ipython",
    "version": 3
   },
   "file_extension": ".py",
   "mimetype": "text/x-python",
   "name": "python",
   "nbconvert_exporter": "python",
   "pygments_lexer": "ipython3",
   "version": "3.11.9"
  }
 },
 "nbformat": 4,
 "nbformat_minor": 5
}
